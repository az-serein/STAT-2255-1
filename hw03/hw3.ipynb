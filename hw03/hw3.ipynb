{
 "cells": [
  {
   "cell_type": "markdown",
   "id": "e0566d13-6175-4d7a-8a8c-a44410818866",
   "metadata": {},
   "source": [
    "## Question 1"
   ]
  },
  {
   "cell_type": "code",
   "execution_count": 1,
   "id": "df5c56bb-a194-4d40-b414-3c73595f7cf9",
   "metadata": {},
   "outputs": [],
   "source": [
    "import math\n",
    "\n",
    "class Point:\n",
    "    def __init__(self, x, y):\n",
    "        self.x = x\n",
    "        self.y = y\n",
    "    def dis_from_origin(self):\n",
    "        return math.sqrt(self.x**2 + self.y**2)\n",
    "    def __lt__(self, other):\n",
    "        return self.dis_from_origin() < other.dis_from_origin()\n",
    "    def __gt__(self, other):\n",
    "        return self.dis_from_origin() > other.dis_from_origin()\n",
    "    def __eq__(self, other):\n",
    "        return self.dis_from_origin() == other.dis_from_origin()"
   ]
  },
  {
   "cell_type": "markdown",
   "id": "a7ff82b6-2704-4eab-a0c5-48f213539cce",
   "metadata": {},
   "source": [
    "## Question 2"
   ]
  },
  {
   "cell_type": "code",
   "execution_count": 2,
   "id": "8d5c1895-1298-41ba-a191-d29ac52f8aca",
   "metadata": {},
   "outputs": [],
   "source": [
    "import uuid\n",
    "from Account import Account\n",
    "\n",
    "class SavingAccount(Account):\n",
    "    def __init__(self, initial_amount, max_num_withdrawals=1,\n",
    "                 minimum=1000, interest_rate=0.10,\n",
    "                 bonus_contribution=0.15):\n",
    "        super().__init__(initial_amount, minimum, interest_rate)\n",
    "        self._num_withdrawals = 0\n",
    "        self._max_num_withdrawals = max_num_withdrawals\n",
    "        self._bonus_contribution = bonus_contribution\n",
    "        self._min_balance_ever = initial_amount\n",
    "    def get_num_withdrawals(self):\n",
    "        return self._num_withdrawals\n",
    "    def withdraw(self, w_amount):\n",
    "        if self._num_withdrawals >= self._max_num_withdrawals:\n",
    "            raise ValueError(\"Savings accounts allow only {} withdrawals.\".format(self._max_num_withdrawals))\n",
    "        self._num_withdrawals += 1\n",
    "        if self.balance - w_amount < self._min_balance_ever: \n",
    "            self._min_balance_ever = self.balance - w_amount\n",
    "        super().withdraw(w_amount)\n",
    "    def add_bonus(self):\n",
    "        bonus_amount = (self._bonus_contribution * self._min_balance_ever) + 100\n",
    "        self.deposit(bonus_amount) \n",
    "    def close_account(self):\n",
    "        self.add_bonus()\n",
    "        return super().close_account() "
   ]
  },
  {
   "cell_type": "markdown",
   "id": "8c54f428-cfd8-42bc-b572-e35194fde6e7",
   "metadata": {},
   "source": [
    "## Question 3"
   ]
  },
  {
   "cell_type": "code",
   "execution_count": 3,
   "id": "1627d3d4-5d43-41d6-aaa8-316cddd16bd4",
   "metadata": {},
   "outputs": [
    {
     "data": {
      "text/plain": [
       "(0.669, 0.333)"
      ]
     },
     "execution_count": 3,
     "metadata": {},
     "output_type": "execute_result"
    }
   ],
   "source": [
    "import random\n",
    "\n",
    "random.seed(2255)\n",
    "\n",
    "def simulate_monty_hall(switch, num_trials):\n",
    "    wins = 0\n",
    "    for _ in range(num_trials):\n",
    "        # Randomly place the car behind one of the 3 doors\n",
    "        car_position = random.randint(1, 3)\n",
    "        # Player makes a choice\n",
    "        player_choice = random.randint(1, 3)\n",
    "        # Host opens a door that is not the player's choice and not the car (if possible)\n",
    "        possible_doors_to_open = [door for door in range(1, 4) if door != player_choice and door != car_position]\n",
    "        if not possible_doors_to_open: # In case the player chooses the car, the host can open any of the other two doors\n",
    "            possible_doors_to_open = [door for door in range(1, 4) if door != player_choice]\n",
    "        door_opened_by_host = random.choice(possible_doors_to_open)\n",
    "        # If the player switches, change their choice to the remaining door\n",
    "        if switch:\n",
    "            player_choice = next(door for door in range(1, 4) if door not in [player_choice, door_opened_by_host])\n",
    "        # Check if the player won\n",
    "        if player_choice == car_position:\n",
    "            wins += 1\n",
    "    return wins / num_trials\n",
    "\n",
    "# Set number of simulations\n",
    "num_trials = 1000\n",
    "\n",
    "# Probability of winning with and without switching\n",
    "prob_win_switching = simulate_monty_hall(True, num_trials)\n",
    "prob_win_not_switching = simulate_monty_hall(False, num_trials)\n",
    "\n",
    "prob_win_switching, prob_win_not_switching"
   ]
  }
 ],
 "metadata": {
  "kernelspec": {
   "display_name": "Python 3 (ipykernel)",
   "language": "python",
   "name": "python3"
  },
  "language_info": {
   "codemirror_mode": {
    "name": "ipython",
    "version": 3
   },
   "file_extension": ".py",
   "mimetype": "text/x-python",
   "name": "python",
   "nbconvert_exporter": "python",
   "pygments_lexer": "ipython3",
   "version": "3.11.5"
  }
 },
 "nbformat": 4,
 "nbformat_minor": 5
}
