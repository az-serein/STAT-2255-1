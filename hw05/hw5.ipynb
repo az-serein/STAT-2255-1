{
 "cells": [
  {
   "cell_type": "markdown",
   "id": "d1cecb72-db54-426c-b048-6a638e569dcc",
   "metadata": {},
   "source": [
    "## Question 1"
   ]
  },
  {
   "cell_type": "markdown",
   "id": "1c335589-4370-4672-900d-71993ce77a3b",
   "metadata": {},
   "source": [
    "### a"
   ]
  },
  {
   "cell_type": "markdown",
   "id": "c7457c24-1b8b-4777-8ea6-a5243713a38d",
   "metadata": {},
   "source": [
    "Total = 1 + n + 2n + n + 1 = 4n+2"
   ]
  },
  {
   "cell_type": "markdown",
   "id": "bd7daa38-f7da-4547-b863-f7fbb246052d",
   "metadata": {},
   "source": [
    "### b"
   ]
  },
  {
   "cell_type": "markdown",
   "id": "7f634b73-72cc-40cc-8d97-cc64d749506d",
   "metadata": {},
   "source": [
    "4n+2"
   ]
  },
  {
   "cell_type": "markdown",
   "id": "015a0e10-6175-44f5-864c-d8465f5f9966",
   "metadata": {},
   "source": [
    "## Question 2"
   ]
  },
  {
   "cell_type": "markdown",
   "id": "44ea54f1-157f-4eac-b8b3-64d4acd3cdb2",
   "metadata": {},
   "source": [
    "### a"
   ]
  },
  {
   "cell_type": "code",
   "execution_count": 2,
   "id": "b42dbfce-80e4-4e37-9df5-a18a5784fa6d",
   "metadata": {},
   "outputs": [],
   "source": [
    "def duplicates(L):\n",
    "    L.sort()\n",
    "    for i in range(len(L) - 1):\n",
    "        if L[i] == L[i + 1]:\n",
    "            return True\n",
    "    return False"
   ]
  },
  {
   "cell_type": "markdown",
   "id": "2d17daa7-ffe6-41f6-99c6-4de1f43f8cd3",
   "metadata": {},
   "source": [
    "### b"
   ]
  },
  {
   "cell_type": "code",
   "execution_count": 11,
   "id": "8198f391-5d00-49f7-8b64-c2c12b2d8bc5",
   "metadata": {},
   "outputs": [],
   "source": [
    "import time"
   ]
  },
  {
   "cell_type": "code",
   "execution_count": 13,
   "id": "782c0f16-10cf-4cf5-aeee-234b0f2debf1",
   "metadata": {},
   "outputs": [],
   "source": [
    "def duplicates2(L):\n",
    "    n = len(L)\n",
    "    for i in range(1,n):\n",
    "        for j in range(i):\n",
    "            if L[i] == L[j]:\n",
    "                return True\n",
    "    return False"
   ]
  },
  {
   "cell_type": "code",
   "execution_count": 14,
   "id": "09bb7ada-57c7-44a7-baf4-3003ee84a37b",
   "metadata": {},
   "outputs": [],
   "source": [
    "def timetrials(func, n, trials = 10):\n",
    "    totaltime = 0\n",
    "    L = list(range(n))\n",
    "    for i in range(trials):\n",
    "        start = time.time() \n",
    "        func(L)\n",
    "        time_for_one_run = time.time() - start\n",
    "        totaltime += time_for_one_run\n",
    "    print(\"average = %10.7f for n = %d\" % (totaltime/trials, n))"
   ]
  },
  {
   "cell_type": "code",
   "execution_count": 15,
   "id": "05c6b474-d97d-4d2a-8ee7-ff18a559c3f8",
   "metadata": {},
   "outputs": [
    {
     "name": "stdout",
     "output_type": "stream",
     "text": [
      "average =  0.0093171 for n = 800\n",
      "average =  0.0238661 for n = 1600\n",
      "average =  0.1028302 for n = 3200\n",
      "average =  0.4028219 for n = 6400\n",
      "average =  1.6274005 for n = 12800\n"
     ]
    }
   ],
   "source": [
    "for n in [800, 1600, 3200, 6400, 12800]:\n",
    "    timetrials(duplicates2, n)"
   ]
  },
  {
   "cell_type": "code",
   "execution_count": 16,
   "id": "3dce7737-c1ce-416e-8667-380b6d6a892c",
   "metadata": {},
   "outputs": [
    {
     "name": "stdout",
     "output_type": "stream",
     "text": [
      "average =  0.0000236 for n = 800\n",
      "average =  0.0000549 for n = 1600\n",
      "average =  0.0001057 for n = 3200\n",
      "average =  0.0001973 for n = 6400\n",
      "average =  0.0004144 for n = 12800\n"
     ]
    }
   ],
   "source": [
    "for n in [800, 1600, 3200, 6400, 12800]:\n",
    "    timetrials(duplicates, n)"
   ]
  }
 ],
 "metadata": {
  "kernelspec": {
   "display_name": "Python 3 (ipykernel)",
   "language": "python",
   "name": "python3"
  },
  "language_info": {
   "codemirror_mode": {
    "name": "ipython",
    "version": 3
   },
   "file_extension": ".py",
   "mimetype": "text/x-python",
   "name": "python",
   "nbconvert_exporter": "python",
   "pygments_lexer": "ipython3",
   "version": "3.11.5"
  }
 },
 "nbformat": 4,
 "nbformat_minor": 5
}
